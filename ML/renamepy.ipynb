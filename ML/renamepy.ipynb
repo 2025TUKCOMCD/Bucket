{
 "cells": [
  {
   "cell_type": "code",
   "execution_count": 4,
   "id": "3bcb803c-b2ab-466a-ba41-4de8bea3b3d6",
   "metadata": {},
   "outputs": [
    {
     "name": "stdout",
     "output_type": "stream",
     "text": [
      "14\n",
      "\"D:/Studying/gradu/013.피트니스자세/2.Validation/검증데이터/16/body_v-1-561.json\",\n",
      "\"D:/Studying/gradu/013.피트니스자세/2.Validation/검증데이터/16/body_v-2-561.json\",\n",
      "\"D:/Studying/gradu/013.피트니스자세/2.Validation/검증데이터/16/body_v-3-561.json\",\n",
      "\"D:/Studying/gradu/013.피트니스자세/2.Validation/검증데이터/16/body_v-4-561.json\",\n",
      "\"D:/Studying/gradu/013.피트니스자세/2.Validation/검증데이터/16/body_v-5-561.json\",\n",
      "\"D:/Studying/gradu/013.피트니스자세/2.Validation/검증데이터/16/body_v-6-561.json\",\n",
      "\"D:/Studying/gradu/013.피트니스자세/2.Validation/검증데이터/16/body_v-7-561.json\",\n",
      "\"D:/Studying/gradu/013.피트니스자세/2.Validation/검증데이터/16/body_v-1-562.json\",\n",
      "\"D:/Studying/gradu/013.피트니스자세/2.Validation/검증데이터/16/body_v-1-563.json\",\n",
      "\"D:/Studying/gradu/013.피트니스자세/2.Validation/검증데이터/16/body_v-1-564.json\",\n",
      "\"D:/Studying/gradu/013.피트니스자세/2.Validation/검증데이터/16/body_v-1-565.json\",\n",
      "\"D:/Studying/gradu/013.피트니스자세/2.Validation/검증데이터/16/body_v-1-566.json\",\n",
      "\"D:/Studying/gradu/013.피트니스자세/2.Validation/검증데이터/16/body_v-1-567.json\",\n",
      "\"D:/Studying/gradu/013.피트니스자세/2.Validation/검증데이터/16/body_v-1-568.json\",\n"
     ]
    }
   ],
   "source": [
    "# 원본 JSON 파일 경로 리스트\n",
    "file_paths = [\n",
    "    \"D:/Studying/gradu/013.피트니스자세/2.Validation/검증데이터/body_v-1-561.json\",\n",
    "    \"D:/Studying/gradu/013.피트니스자세/2.Validation/검증데이터/body_v-2-561.json\",\n",
    "    \"D:/Studying/gradu/013.피트니스자세/2.Validation/검증데이터/body_v-3-561.json\",\n",
    "    \"D:/Studying/gradu/013.피트니스자세/2.Validation/검증데이터/body_v-4-561.json\",\n",
    "    \"D:/Studying/gradu/013.피트니스자세/2.Validation/검증데이터/body_v-5-561.json\",\n",
    "    \"D:/Studying/gradu/013.피트니스자세/2.Validation/검증데이터/body_v-6-561.json\",\n",
    "    \"D:/Studying/gradu/013.피트니스자세/2.Validation/검증데이터/body_v-7-561.json\",\n",
    "    \"D:/Studying/gradu/013.피트니스자세/2.Validation/검증데이터/body_v-1-562.json\",\n",
    "    \"D:/Studying/gradu/013.피트니스자세/2.Validation/검증데이터/body_v-1-563.json\",\n",
    "    \"D:/Studying/gradu/013.피트니스자세/2.Validation/검증데이터/body_v-1-564.json\",\n",
    "    \"D:/Studying/gradu/013.피트니스자세/2.Validation/검증데이터/body_v-1-565.json\",\n",
    "    \"D:/Studying/gradu/013.피트니스자세/2.Validation/검증데이터/body_v-1-566.json\",\n",
    "    \"D:/Studying/gradu/013.피트니스자세/2.Validation/검증데이터/body_v-1-567.json\",\n",
    "    \"D:/Studying/gradu/013.피트니스자세/2.Validation/검증데이터/body_v-1-568.json\"\n",
    "]\n",
    "\n",
    "# ✅ `Day35_201107_F` → `Day32`로 변경\n",
    "paths1 = [path.replace(\"검증데이터/\", \"검증데이터/16/\") for path in file_paths]\n",
    "# paths2 = [path.replace(\"Day35_201107_F\", \"Day34_201106_F\") for path in paths1]\n",
    "# paths3 = [path.replace(\"D35\", \"D34\") for path in paths2]\n",
    "# paths1 = [path[:-5] + \"-3d\" + path[-5:]for path in file_paths]\n",
    "\n",
    "print(len(paths1))\n",
    "# ✅ 변경된 경로 출력\n",
    "for path in paths1:\n",
    "    print(f'\"{path}\",')"
   ]
  }
 ],
 "metadata": {
  "kernelspec": {
   "display_name": "Python [conda env:base] *",
   "language": "python",
   "name": "conda-base-py"
  },
  "language_info": {
   "codemirror_mode": {
    "name": "ipython",
    "version": 3
   },
   "file_extension": ".py",
   "mimetype": "text/x-python",
   "name": "python",
   "nbconvert_exporter": "python",
   "pygments_lexer": "ipython3",
   "version": "3.12.7"
  }
 },
 "nbformat": 4,
 "nbformat_minor": 5
}

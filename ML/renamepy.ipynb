{
 "cells": [
  {
   "cell_type": "code",
   "execution_count": 25,
   "id": "3bcb803c-b2ab-466a-ba41-4de8bea3b3d6",
   "metadata": {},
   "outputs": [
    {
     "name": "stdout",
     "output_type": "stream",
     "text": [
      "14\n",
      "\"D:/Studying/gradu/013.피트니스자세/1.Training/라벨링데이터/맨몸운동_Labeling_new_220128/맨몸운동_17/Day34_201106_F/D34-1-561.json\",\n",
      "\"D:/Studying/gradu/013.피트니스자세/1.Training/라벨링데이터/맨몸운동_Labeling_new_220128/맨몸운동_17/Day34_201106_F/D34-2-561.json\",\n",
      "\"D:/Studying/gradu/013.피트니스자세/1.Training/라벨링데이터/맨몸운동_Labeling_new_220128/맨몸운동_17/Day34_201106_F/D34-3-561.json\",\n",
      "\"D:/Studying/gradu/013.피트니스자세/1.Training/라벨링데이터/맨몸운동_Labeling_new_220128/맨몸운동_17/Day34_201106_F/D34-4-561.json\",\n",
      "\"D:/Studying/gradu/013.피트니스자세/1.Training/라벨링데이터/맨몸운동_Labeling_new_220128/맨몸운동_17/Day34_201106_F/D34-5-561.json\",\n",
      "\"D:/Studying/gradu/013.피트니스자세/1.Training/라벨링데이터/맨몸운동_Labeling_new_220128/맨몸운동_17/Day34_201106_F/D34-6-561.json\",\n",
      "\"D:/Studying/gradu/013.피트니스자세/1.Training/라벨링데이터/맨몸운동_Labeling_new_220128/맨몸운동_17/Day34_201106_F/D34-7-561.json\",\n",
      "\"D:/Studying/gradu/013.피트니스자세/1.Training/라벨링데이터/맨몸운동_Labeling_new_220128/맨몸운동_17/Day34_201106_F/D34-1-562.json\",\n",
      "\"D:/Studying/gradu/013.피트니스자세/1.Training/라벨링데이터/맨몸운동_Labeling_new_220128/맨몸운동_17/Day34_201106_F/D34-1-563.json\",\n",
      "\"D:/Studying/gradu/013.피트니스자세/1.Training/라벨링데이터/맨몸운동_Labeling_new_220128/맨몸운동_17/Day34_201106_F/D34-1-564.json\",\n",
      "\"D:/Studying/gradu/013.피트니스자세/1.Training/라벨링데이터/맨몸운동_Labeling_new_220128/맨몸운동_17/Day34_201106_F/D34-1-565.json\",\n",
      "\"D:/Studying/gradu/013.피트니스자세/1.Training/라벨링데이터/맨몸운동_Labeling_new_220128/맨몸운동_17/Day34_201106_F/D34-1-566.json\",\n",
      "\"D:/Studying/gradu/013.피트니스자세/1.Training/라벨링데이터/맨몸운동_Labeling_new_220128/맨몸운동_17/Day34_201106_F/D34-1-567.json\",\n",
      "\"D:/Studying/gradu/013.피트니스자세/1.Training/라벨링데이터/맨몸운동_Labeling_new_220128/맨몸운동_17/Day34_201106_F/D34-1-568.json\",\n"
     ]
    }
   ],
   "source": [
    "# 원본 JSON 파일 경로 리스트\n",
    "file_paths = [\n",
    "    \"D:/Studying/gradu/013.피트니스자세/1.Training/라벨링데이터/맨몸운동_Labeling_new_220128/맨몸운동_09/Day35_201107_F/D35-1-561.json\",  # 올바른 자세\n",
    "    \"D:/Studying/gradu/013.피트니스자세/1.Training/라벨링데이터/맨몸운동_Labeling_new_220128/맨몸운동_09/Day35_201107_F/D35-2-561.json\",  # 올바른 자세\n",
    "    \"D:/Studying/gradu/013.피트니스자세/1.Training/라벨링데이터/맨몸운동_Labeling_new_220128/맨몸운동_09/Day35_201107_F/D35-3-561.json\",  # 올바른 자세\n",
    "    \"D:/Studying/gradu/013.피트니스자세/1.Training/라벨링데이터/맨몸운동_Labeling_new_220128/맨몸운동_09/Day35_201107_F/D35-4-561.json\",  # 올바른 자세\n",
    "    \"D:/Studying/gradu/013.피트니스자세/1.Training/라벨링데이터/맨몸운동_Labeling_new_220128/맨몸운동_09/Day35_201107_F/D35-5-561.json\",  # 올바른 자세\n",
    "    \"D:/Studying/gradu/013.피트니스자세/1.Training/라벨링데이터/맨몸운동_Labeling_new_220128/맨몸운동_09/Day35_201107_F/D35-6-561.json\",  # 올바른 자세\n",
    "    \"D:/Studying/gradu/013.피트니스자세/1.Training/라벨링데이터/맨몸운동_Labeling_new_220128/맨몸운동_09/Day35_201107_F/D35-7-561.json\",  # 올바른 자세\n",
    "    \"D:/Studying/gradu/013.피트니스자세/1.Training/라벨링데이터/맨몸운동_Labeling_new_220128/맨몸운동_09/Day35_201107_F/D35-1-562.json\",  \n",
    "    \"D:/Studying/gradu/013.피트니스자세/1.Training/라벨링데이터/맨몸운동_Labeling_new_220128/맨몸운동_09/Day35_201107_F/D35-1-563.json\",  \n",
    "    \"D:/Studying/gradu/013.피트니스자세/1.Training/라벨링데이터/맨몸운동_Labeling_new_220128/맨몸운동_09/Day35_201107_F/D35-1-564.json\",  \n",
    "    \"D:/Studying/gradu/013.피트니스자세/1.Training/라벨링데이터/맨몸운동_Labeling_new_220128/맨몸운동_09/Day35_201107_F/D35-1-565.json\",\n",
    "    \"D:/Studying/gradu/013.피트니스자세/1.Training/라벨링데이터/맨몸운동_Labeling_new_220128/맨몸운동_09/Day35_201107_F/D35-1-566.json\", \n",
    "    \"D:/Studying/gradu/013.피트니스자세/1.Training/라벨링데이터/맨몸운동_Labeling_new_220128/맨몸운동_09/Day35_201107_F/D35-1-567.json\", \n",
    "    \"D:/Studying/gradu/013.피트니스자세/1.Training/라벨링데이터/맨몸운동_Labeling_new_220128/맨몸운동_09/Day35_201107_F/D35-1-568.json\",\n",
    "]\n",
    "\n",
    "# ✅ `Day35_201107_F` → `Day32`로 변경\n",
    "paths1 = [path.replace(\"맨몸운동_09\", \"맨몸운동_17\") for path in file_paths]\n",
    "paths2 = [path.replace(\"Day35_201107_F\", \"Day34_201106_F\") for path in paths1]\n",
    "paths3 = [path.replace(\"D35\", \"D34\") for path in paths2]\n",
    "\n",
    "print(len(paths3))\n",
    "# ✅ 변경된 경로 출력\n",
    "for path in paths3:\n",
    "    print(f'\"{path}\",')"
   ]
  }
 ],
 "metadata": {
  "kernelspec": {
   "display_name": "Python [conda env:base] *",
   "language": "python",
   "name": "conda-base-py"
  },
  "language_info": {
   "codemirror_mode": {
    "name": "ipython",
    "version": 3
   },
   "file_extension": ".py",
   "mimetype": "text/x-python",
   "name": "python",
   "nbconvert_exporter": "python",
   "pygments_lexer": "ipython3",
   "version": "3.12.7"
  }
 },
 "nbformat": 4,
 "nbformat_minor": 5
}
